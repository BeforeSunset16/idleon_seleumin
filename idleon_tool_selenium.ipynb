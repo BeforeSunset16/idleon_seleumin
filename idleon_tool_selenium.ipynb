{
 "cells": [
  {
   "cell_type": "code",
   "execution_count": 1,
   "metadata": {},
   "outputs": [],
   "source": [
    "from time import sleep\n",
    "import json\n",
    "from  website_data import const_items, const_traps, const_randomList, const_refinery, const_monsters, const_classes,const_seedInfo\n",
    "import math\n",
    "from functools import reduce\n",
    "from selenium import webdriver\n",
    "from selenium.webdriver.chrome.options import Options\n",
    "from datetime import datetime, timedelta\n",
    "import re\n",
    "from selenium.webdriver.common.desired_capabilities import DesiredCapabilities\n",
    "\n",
    "import os\n",
    "# 创建 ChromeOptions 对象\n",
    "chrome_options = Options()\n",
    "user_name = os.getlogin()  # 动态获取当前登录的用户名\n",
    "user_data_dir = fr\"C:\\Users\\{user_name}\\AppData\\Local\\Google\\Chrome\\User Data\"\n",
    "profile_directory = \"profile 99\"\n",
    "chrome_options.add_argument(f\"user-data-dir={user_data_dir}\")\n",
    "chrome_options.add_argument(f\"--profile-directory={profile_directory}\")\n",
    "\n",
    "# 启动 Chrome 浏览器\n",
    "driver = webdriver.Chrome(options=chrome_options)\n",
    "\n",
    "# 打开页面\n",
    "driver.get(\"https://idleontoolbox.com/dashboard\")\n",
    "\n",
    "# 等待页面加载完成\n",
    "sleep(5)\n",
    "\n",
    "# 获取浏览器控制台日志\n",
    "logs = driver.get_log('browser')\n",
    "\n",
    "raw_json = driver.execute_script(\"return localStorage.getItem('rawJson');\")\n"
   ]
  },
  {
   "cell_type": "code",
   "execution_count": 2,
   "metadata": {},
   "outputs": [
    {
     "name": "stdout",
     "output_type": "stream",
     "text": [
      "yuanyuan bengdan=================================================== <class 'dict'>\n"
     ]
    },
    {
     "data": {
      "text/plain": [
       "{'liquids': [1167.874100203596,\n",
       "  1550.4461960955216,\n",
       "  1415.3494084054646,\n",
       "  1249.0798084054645],\n",
       " 'charactersImportant': {1: 'Divine_Knight',\n",
       "  2: 'Bubonic_Conjuror',\n",
       "  3: 'Siege_Breaker',\n",
       "  4: 'Blood_Berserker',\n",
       "  5: 'Elemental_Sorcerer',\n",
       "  6: 'Beast_Master',\n",
       "  7: 'Divine_Knight',\n",
       "  8: 'Voidwalker',\n",
       "  9: 'Elemental_Sorcerer',\n",
       "  10: 'Siege_Breaker'},\n",
       " 'jadeCoins': 7082857.904310703,\n",
       " 'alchemyResource': ['le_brain_tools:{colour: purple, click_down_page_times:5, click_up_page_times:0}']}"
      ]
     },
     "execution_count": 2,
     "metadata": {},
     "output_type": "execute_result"
    }
   ],
   "source": [
    "from idleonDataParser import parse_all\n",
    "\n",
    "parse_all(raw_json)"
   ]
  }
 ],
 "metadata": {
  "kernelspec": {
   "display_name": ".venv",
   "language": "python",
   "name": "python3"
  },
  "language_info": {
   "codemirror_mode": {
    "name": "ipython",
    "version": 3
   },
   "file_extension": ".py",
   "mimetype": "text/x-python",
   "name": "python",
   "nbconvert_exporter": "python",
   "pygments_lexer": "ipython3",
   "version": "3.11.9"
  }
 },
 "nbformat": 4,
 "nbformat_minor": 2
}
